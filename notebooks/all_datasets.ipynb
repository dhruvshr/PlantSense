{
 "cells": [
  {
   "cell_type": "markdown",
   "metadata": {},
   "source": [
    "## Datasets for PlantSense"
   ]
  },
  {
   "cell_type": "code",
   "execution_count": 2,
   "metadata": {},
   "outputs": [],
   "source": [
    "# loading libaries to load data\n",
    "import pandas as pd\n",
    "import numpy as np\n",
    "import matplotlib.pyplot as plt\n",
    "import cv2\n",
    "import os\n",
    "\n",
    "from torchvision import datasets\n",
    "from torchvision.transforms import transforms\n",
    "from torch.utils.data import DataLoader\n"
   ]
  },
  {
   "cell_type": "code",
   "execution_count": 3,
   "metadata": {},
   "outputs": [],
   "source": [
    "# data drive path\n",
    "DATA_DRIVE = '/Volumes/SDAC128/data/'"
   ]
  },
  {
   "cell_type": "code",
   "execution_count": 4,
   "metadata": {},
   "outputs": [],
   "source": [
    "def imshow(image_path: str, label: int, class_names: list):\n",
    "    \"\"\"\n",
    "    Display an image using OpenCV's imshow.\n",
    "    \n",
    "    Args:\n",
    "        image_path (str): Path to the image file.\n",
    "        label (int): The class label (integer index).\n",
    "        class_names (list): A list of class names corresponding to the label.\n",
    "    \"\"\"\n",
    "    # Read the image from the given path\n",
    "    image = cv2.imread(image_path)\n",
    "    \n",
    "    if image is None:\n",
    "        print(f\"Error: Unable to load image at {image_path}\")\n",
    "        return\n",
    "    \n",
    "    # Convert from BGR (OpenCV's default) to RGB for better visualization (optional)\n",
    "    image_rgb = cv2.cvtColor(image, cv2.COLOR_BGR2RGB)\n",
    "    \n",
    "    # Show the image in a window\n",
    "    cv2.imshow(f\"Class: {class_names[label]} - Label: {label}\", image_rgb)"
   ]
  },
  {
   "cell_type": "markdown",
   "metadata": {},
   "source": [
    "ResNet Model Training Datasets\n",
    "- These are more diverse, larger and general datasets to train the ResNet Model on so that the model gets a nice general understanding of the kinds of leaves and a general idea of how to differentiate between a diseased and healthy leaf.\n",
    "- Some of these datasets don't have the proper background as is an farms and fiels which may be a bane for the model to understand in case the end user does not upload lab pictures and more realistic pictures of leaves and plants."
   ]
  },
  {
   "cell_type": "code",
   "execution_count": null,
   "metadata": {},
   "outputs": [
    {
     "name": "stdout",
     "output_type": "stream",
     "text": [
      "('/Volumes/SDAC128/data/Plant_leave_diseases_dataset_with_augmentation/Apple___Apple_scab/._image (1).JPG', 0)\n"
     ]
    }
   ],
   "source": [
    "\"\"\"\n",
    "PlantVillage Dataset\n",
    "License: CC0 1.0 - Universal (CC0 1.0) Public Domain Dedication\n",
    "Link: https://data.mendeley.com/datasets/tywbtsjrjv/1\n",
    "Contributors: ARUN PANDIAN J, GEETHARAMANI GOPAL\n",
    "Published: 17 April 2019\n",
    "Associated Paper: \"Identification of Plant Leaf Diseases Using a 9-layer Deep Convolutional Neural Network\"\n",
    "\"\"\"\n",
    "\n",
    "plant_village_file_path = DATA_DRIVE + 'Plant_leave_diseases_dataset_with_augmentation/'\n",
    "\n",
    "plant_village = datasets.ImageFolder(plant_village_file_path)\n",
    "\n",
    "classes = plant_village.classes\n",
    "extensions = plant_village.extensions\n",
    "class_idx = plant_village.class_to_idx\n",
    "targets = plant_village.targets\n",
    "samples = plant_village.samples\n",
    "data = plant_village.imgs\n",
    "\n",
    "# img = '/Volumes/SDAC128/data/Plant_leave_diseases_dataset_with_augmentation/Apple___Apple_scab/image (1).JPG'\n",
    "'/Volumes/SDAC128/data/Plant_leave_diseases_dataset_with_augmentation/Apple___Apple_scab/image (1).JPG'\n",
    "# data[0][0]\n",
    "\n",
    "print(samples[0][0])\n",
    "\n",
    "# imshow(data[0][0], targets[0], classes)\n",
    "\n",
    "\n",
    "\n",
    "\n",
    "# print(targets)\n",
    "\n",
    "# print(classes)\n",
    "# print(extensions)\n",
    "# print(class_idx)\n",
    "\n",
    "# for cl, id in class_idx.items():\n",
    "#     print(cl, id)\n",
    "\n",
    "# loaded_plant_village = DataLoader(plant_village, batch_size=32, shuffle=True)\n"
   ]
  },
  {
   "cell_type": "code",
   "execution_count": null,
   "metadata": {},
   "outputs": [],
   "source": []
  }
 ],
 "metadata": {
  "kernelspec": {
   "display_name": ".venv",
   "language": "python",
   "name": "python3"
  },
  "language_info": {
   "codemirror_mode": {
    "name": "ipython",
    "version": 3
   },
   "file_extension": ".py",
   "mimetype": "text/x-python",
   "name": "python",
   "nbconvert_exporter": "python",
   "pygments_lexer": "ipython3",
   "version": "3.12.7"
  }
 },
 "nbformat": 4,
 "nbformat_minor": 2
}

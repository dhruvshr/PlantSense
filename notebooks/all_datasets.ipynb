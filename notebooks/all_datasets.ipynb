{
 "cells": [
  {
   "cell_type": "markdown",
   "metadata": {},
   "source": [
    "## Datasets for PlantSense"
   ]
  },
  {
   "cell_type": "code",
   "execution_count": 5,
   "metadata": {},
   "outputs": [],
   "source": [
    "# loading libaries to load data\n",
    "import pandas as pd\n",
    "import numpy as np\n",
    "import matplotlib.pyplot as plt\n",
    "import cv2\n",
    "import os\n"
   ]
  },
  {
   "cell_type": "code",
   "execution_count": 6,
   "metadata": {},
   "outputs": [],
   "source": [
    "# data drive path\n",
    "DATA_DRIVE = '/Volumes/SDAC128/data/'"
   ]
  },
  {
   "cell_type": "markdown",
   "metadata": {},
   "source": [
    "ResNet Model Training Datasets\n",
    "- These are more diverse, larger and general datasets to train the ResNet Model on so that the model gets a nice general understanding of the kinds of leaves and a general idea of how to differentiate between a diseased and healthy leaf.\n",
    "- Some of these datasets don't have the proper background as is an farms and fiels which may be a bane for the model to understand in case the end user does not upload lab pictures and more realistic pictures of leaves and plants."
   ]
  },
  {
   "cell_type": "code",
   "execution_count": null,
   "metadata": {},
   "outputs": [
    {
     "ename": "KeyboardInterrupt",
     "evalue": "",
     "output_type": "error",
     "traceback": [
      "\u001b[0;31m---------------------------------------------------------------------------\u001b[0m",
      "\u001b[0;31mKeyboardInterrupt\u001b[0m                         Traceback (most recent call last)",
      "Cell \u001b[0;32mIn[8], line 29\u001b[0m\n\u001b[1;32m     26\u001b[0m image \u001b[38;5;241m=\u001b[39m cv2\u001b[38;5;241m.\u001b[39mimread(image_path)\n\u001b[1;32m     27\u001b[0m \u001b[38;5;28;01mif\u001b[39;00m image \u001b[38;5;129;01mis\u001b[39;00m \u001b[38;5;129;01mnot\u001b[39;00m \u001b[38;5;28;01mNone\u001b[39;00m:\n\u001b[1;32m     28\u001b[0m     \u001b[38;5;66;03m# Resize the image to the target shape\u001b[39;00m\n\u001b[0;32m---> 29\u001b[0m     resized_image \u001b[38;5;241m=\u001b[39m \u001b[43mcv2\u001b[49m\u001b[38;5;241;43m.\u001b[39;49m\u001b[43mresize\u001b[49m\u001b[43m(\u001b[49m\u001b[43mimage\u001b[49m\u001b[43m,\u001b[49m\u001b[43m \u001b[49m\u001b[43mtarget_shape\u001b[49m\u001b[43m)\u001b[49m\n\u001b[1;32m     30\u001b[0m     image_data\u001b[38;5;241m.\u001b[39mappend(resized_image)\n\u001b[1;32m     31\u001b[0m     labels\u001b[38;5;241m.\u001b[39mappend(label)\n",
      "\u001b[0;31mKeyboardInterrupt\u001b[0m: "
     ]
    }
   ],
   "source": [
    "\"\"\"\n",
    "PlantVillage Dataset\n",
    "License: CC0 1.0 - Universal (CC0 1.0) Public Domain Dedication\n",
    "Link: https://data.mendeley.com/datasets/tywbtsjrjv/1\n",
    "Contributors: ARUN PANDIAN J, GEETHARAMANI GOPAL\n",
    "Published: 17 April 2019\n",
    "Associated Paper: \"Identification of Plant Leaf Diseases Using a 9-layer Deep Convolutional Neural Network\"\n",
    "\"\"\"\n",
    "\n",
    "plant_village_file_path = DATA_DRIVE + 'Plant_leave_diseases_dataset_with_augmentation/'\n",
    "\n",
    "# classes\n",
    "classes = os.listdir(plant_village_file_path)\n",
    "\n",
    "image_data = []\n",
    "labels = []\n",
    "\n",
    "# Define the target shape for resizing images\n",
    "target_shape = (64, 64)\n",
    "\n",
    "for label, class_name in enumerate(classes):\n",
    "    class_folder = os.path.join(plant_village_file_path, class_name)\n",
    "    if os.path.isdir(class_folder):\n",
    "        for image_name in os.listdir(class_folder):\n",
    "            image_path = os.path.join(class_folder, image_name)\n",
    "            image = cv2.imread(image_path)\n",
    "            if image is not None:\n",
    "                # Resize the image to the target shape\n",
    "                resized_image = cv2.resize(image, target_shape)\n",
    "                image_data.append(resized_image)\n",
    "                labels.append(label)\n",
    "\n",
    "image_data = np.array(image_data)\n",
    "labels = np.array(labels)\n",
    "\n",
    "# flatten image data to a vector\n",
    "image_data_flattened = image_data.reshape(image_data.shape[0], -1)\n",
    "\n",
    "# create pd dataframe\n",
    "df = pd.DataFrame(image_data_flattened)\n",
    "df['label'] = labels\n",
    "\n",
    "df.head()"
   ]
  }
 ],
 "metadata": {
  "kernelspec": {
   "display_name": ".venv",
   "language": "python",
   "name": "python3"
  },
  "language_info": {
   "codemirror_mode": {
    "name": "ipython",
    "version": 3
   },
   "file_extension": ".py",
   "mimetype": "text/x-python",
   "name": "python",
   "nbconvert_exporter": "python",
   "pygments_lexer": "ipython3",
   "version": "3.12.7"
  }
 },
 "nbformat": 4,
 "nbformat_minor": 2
}

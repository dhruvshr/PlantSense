{
 "cells": [
  {
   "cell_type": "markdown",
   "metadata": {},
   "source": [
    "# PlantSense Todo List"
   ]
  },
  {
   "cell_type": "markdown",
   "metadata": {},
   "source": [
    "## Dataset Collection\n",
    "\n",
    "| **Dataset**              | **Crop Types** | **Disease Classes** | **Background** | **Segmentation Masks** | **Additional Notes**                        |\n",
    "|--------------------------|----------------|---------------------|----------------|------------------------|---------------------------------------------|\n",
    "| **PlantVillage**          | 14             | 38                  | Synthetic      | No                     | Large dataset, diverse crops|\n",
    "| **PlantLeaves**           | 22             | 39                  | Synthetic      | No                     | Large dataset, diverse crops |      \n",
    "| **ASDID**                 | Soybean        | 8                   | Mixed          | No                     | soybean-specific|\n",
    "| **PaddyDoctor**           | Rice           | 10                  | Complex        | No                     | Rice-focused with real backgrounds         |\n",
    "| **Apple2021**             | Apple          | 6                   | Medium         | No                     | High-quality apple data                    |\n",
    "| **RoCoLe**                | Coffee         | 6                   | Medium         | No                     | Coffee-specific diseases                   |\n",
    "| **iCassava**              | Cassava        | 5                   | Medium         | No                     | Cassava-specific                           |\n",
    "| **Rice1426**              | Rice           | 9                   | Mixed          | No                     | Supplements rice disease data              |\n",
    "| **GroundNutLeaf**         | Groundnut      | 5                   | Medium         | No                     | Groundnut-specific                         |\n",
    "| **GrapevineDiseaseMalo**  | Grape          | 3                   | Complex        | No                     | Grape-specific diseases                    |\n"
   ]
  },
  {
   "cell_type": "code",
   "execution_count": null,
   "metadata": {},
   "outputs": [],
   "source": [
    "# PlantVillage Dataset\n",
    "\n"
   ]
  }
 ],
 "metadata": {
  "language_info": {
   "name": "python"
  }
 },
 "nbformat": 4,
 "nbformat_minor": 2
}

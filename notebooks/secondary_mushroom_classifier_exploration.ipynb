{
 "cells": [
  {
   "cell_type": "markdown",
   "metadata": {},
   "source": [
    "Secondary Mushroom Classification Exploration Notebook"
   ]
  },
  {
   "cell_type": "code",
   "execution_count": 1,
   "metadata": {},
   "outputs": [],
   "source": [
    "import numpy as np\n",
    "import pandas as pd\n",
    "from sklearn.model_selection import train_test_split\n",
    "from sklearn.preprocessing import StandardScaler, LabelEncoder\n",
    "from sklearn.neighbors import KNeighborsClassifier\n",
    "from sklearn.metrics import accuracy_score"
   ]
  },
  {
   "cell_type": "code",
   "execution_count": 3,
   "metadata": {},
   "outputs": [],
   "source": [
    "from ucimlrepo import fetch_ucirepo \n",
    "# fetch dataset \n",
    "secondary_mushroom = fetch_ucirepo(id=848) "
   ]
  },
  {
   "cell_type": "code",
   "execution_count": 4,
   "metadata": {},
   "outputs": [
    {
     "name": "stdout",
     "output_type": "stream",
     "text": [
      "Accuracy: 99.98%\n"
     ]
    }
   ],
   "source": [
    "\n",
    "# data (as pandas dataframes) \n",
    "X = secondary_mushroom.data.features \n",
    "y = secondary_mushroom.data.targets \n",
    "  \n",
    "df = pd.DataFrame(X)\n",
    "df['target'] = y\n",
    "df.head()\n",
    "\n",
    "# encode categorical columns\n",
    "categorical_columns = X.select_dtypes(include='object').columns\n",
    "label_encoder = LabelEncoder()\n",
    "for col in categorical_columns:\n",
    "    X.loc[:, col] = label_encoder.fit_transform(X[col])\n",
    "\n",
    "\n",
    "# split the data into training and testing sets\n",
    "X_train, X_test, y_train, y_test = train_test_split(X, y, test_size=0.25, random_state=0)\n",
    "\n",
    "# standardize the data\n",
    "scaler = StandardScaler()\n",
    "X_train = scaler.fit_transform(X_train)\n",
    "X_test = scaler.transform(X_test)\n",
    "\n",
    "# train the model\n",
    "knn = KNeighborsClassifier(n_neighbors=5)\n",
    "knn.fit(X_train, y_train.values.ravel())\n",
    "\n",
    "# make predictions\n",
    "y_pred = knn.predict(X_test)\n",
    "\n",
    "# calculate accuracy\n",
    "accuracy = accuracy_score(y_test, y_pred)\n",
    "print(f'Accuracy: {accuracy*100:.2f}%')\n"
   ]
  },
  {
   "cell_type": "code",
   "execution_count": 5,
   "metadata": {},
   "outputs": [
    {
     "name": "stdout",
     "output_type": "stream",
     "text": [
      "Predicted labels for the new data: ['p']\n"
     ]
    }
   ],
   "source": [
    "# New mushroom data for inference (hypothetical example)\n",
    "new_data = {\n",
    "    'cap-diameter': [4.5],\n",
    "    'cap-shape': ['bell'],\n",
    "    'cap-surface': ['smooth'],\n",
    "    'cap-color': ['red'],\n",
    "    'does-bruise-or-bleed': ['no'],\n",
    "    'gill-attachment': ['free'],\n",
    "    'gill-spacing': ['close'],\n",
    "    'gill-color': ['white'],\n",
    "    'stem-height': [12.3],\n",
    "    'stem-width': [2.3],\n",
    "    'stem-root': ['bulbous'],\n",
    "    'stem-surface': ['smooth'],\n",
    "    'stem-color': ['white'],\n",
    "    'veil-type': ['partial'],\n",
    "    'veil-color': ['white'],\n",
    "    'has-ring': ['yes'],\n",
    "    'ring-type': ['pendant'],\n",
    "    'spore-print-color': ['brown'],\n",
    "    'habitat': ['forest'],\n",
    "    'season': ['autumn']\n",
    "}\n",
    "\n",
    "# Convert to pandas DataFrame\n",
    "X_new = pd.DataFrame(new_data)\n",
    "\n",
    "categorical_columns = X_new.select_dtypes(include='object').columns\n",
    "\n",
    "label_encoder = LabelEncoder()\n",
    "\n",
    "# Apply the same LabelEncoder to categorical columns for new data\n",
    "for col in categorical_columns:\n",
    "    X_new[col] = label_encoder.fit_transform(X_new[col])  # Use the fitted encoder to transform new data\n",
    "\n",
    "# Standardize the new data using the same scaler used for training data\n",
    "X_new_scaled = scaler.transform(X_new)\n",
    "\n",
    "# Make predictions using the trained model\n",
    "y_new_pred = knn.predict(X_new_scaled)\n",
    "\n",
    "print(\"Predicted labels for the new data:\", y_new_pred)\n",
    "\n"
   ]
  }
 ],
 "metadata": {
  "kernelspec": {
   "display_name": ".venv",
   "language": "python",
   "name": "python3"
  },
  "language_info": {
   "codemirror_mode": {
    "name": "ipython",
    "version": 3
   },
   "file_extension": ".py",
   "mimetype": "text/x-python",
   "name": "python",
   "nbconvert_exporter": "python",
   "pygments_lexer": "ipython3",
   "version": "3.12.7"
  }
 },
 "nbformat": 4,
 "nbformat_minor": 2
}
